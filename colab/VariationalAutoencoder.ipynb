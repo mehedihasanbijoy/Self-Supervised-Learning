{
  "cells": [
    {
      "cell_type": "code",
      "execution_count": null,
      "metadata": {
        "id": "cYWc19ow_W8H"
      },
      "outputs": [],
      "source": [
        "!unzip '/content/drive/MyDrive/PROJECTS/ZS-GZS HCR/Datasets/DatasetBangla.zip'"
      ]
    },
    {
      "cell_type": "code",
      "execution_count": null,
      "metadata": {
        "id": "41d2MYUbAGDv"
      },
      "outputs": [],
      "source": [
        "import torch\n",
        "import torch.nn as nn\n",
        "import torch.nn.functional as F\n",
        "from torch.nn import functional as Flatten\n",
        "import torchvision \n",
        "from torch.utils.data import DataLoader\n",
        "from torchvision.datasets import ImageFolder\n",
        "from torchsummary import summary\n",
        "\n",
        "import os, glob\n",
        "import cv2\n",
        "import numpy as np\n",
        "import matplotlib.pyplot as plt\n",
        "import pandas as pd\n",
        "from tqdm import tqdm\n",
        "\n",
        "import matplotlib.pyplot as plt\n",
        "import numpy as np\n",
        "import random\n",
        "\n",
        "import warnings as wrn\n",
        "wrn.filterwarnings('ignore')"
      ]
    },
    {
      "cell_type": "code",
      "execution_count": null,
      "metadata": {
        "id": "GXpmUjaEAGGT"
      },
      "outputs": [],
      "source": [
        "ROOT_DIR = '/content/DatasetBangla'\n",
        "TRAIN_ROOT = os.path.join(ROOT_DIR, 'Train')\n",
        "TEST_ROOT = os.path.join(ROOT_DIR, 'Test')\n",
        "CHECKPOINT = ''\n",
        "\n",
        "DEVICE = 'cuda' if torch.cuda.is_available() else 'cpu'\n",
        "\n",
        "IMG_SIZE = (32, 32)\n",
        "BATCH_SIZE = 32\n",
        "\n",
        "N_CLASSES = len(os.listdir(TRAIN_ROOT))"
      ]
    },
    {
      "cell_type": "code",
      "execution_count": null,
      "metadata": {
        "id": "RSZ4WPDdNL6L"
      },
      "outputs": [],
      "source": [
        "transform = torchvision.transforms.Compose([\n",
        "    torchvision.transforms.Resize(IMG_SIZE),\n",
        "    torchvision.transforms.ToTensor(),\n",
        "])\n",
        "\n",
        "train_loader = DataLoader(\n",
        "    ImageFolder(TRAIN_ROOT, transform=transform),\n",
        "    batch_size = BATCH_SIZE, shuffle = True, pin_memory = True, drop_last = True, num_workers = 2\n",
        ")\n",
        "\n",
        "test_loader = DataLoader(\n",
        "    ImageFolder(TEST_ROOT, transform=transform),\n",
        "    batch_size = BATCH_SIZE, shuffle = True, pin_memory = True, drop_last = True, num_workers = 2\n",
        ")"
      ]
    },
    {
      "cell_type": "code",
      "execution_count": null,
      "metadata": {
        "colab": {
          "base_uri": "https://localhost:8080/"
        },
        "id": "kg5DGE0yNL8h",
        "outputId": "64e6f399-b1a8-4d28-beb4-9c35aa64cde6"
      },
      "outputs": [
        {
          "output_type": "stream",
          "name": "stdout",
          "text": [
            "torch.Size([32, 3, 32, 32])\n",
            "torch.Size([32])\n"
          ]
        }
      ],
      "source": [
        "for (images, labels) in train_loader:\n",
        "    print(images.shape)\n",
        "    print(labels.shape)\n",
        "    break"
      ]
    },
    {
      "cell_type": "code",
      "source": [
        "# conv out = ((i+2p-k)/s)+1\n",
        "# convtrans out = (i-1)*s+k-2p"
      ],
      "metadata": {
        "id": "lW_M0cmSPG8O"
      },
      "execution_count": null,
      "outputs": []
    },
    {
      "cell_type": "code",
      "execution_count": null,
      "metadata": {
        "id": "IjiFriQWAEV4"
      },
      "outputs": [],
      "source": [
        "class VanillaVAE(nn.Module):\n",
        "    def __init__(self):\n",
        "        super(VanillaVAE, self).__init__()\n",
        "\n",
        "        self.encoder = nn.Sequential(\n",
        "            nn.Conv2d(in_channels=3, out_channels=32, kernel_size=3, stride=1, padding=0),\n",
        "            nn.LeakyReLU(),\n",
        "            nn.Conv2d(in_channels=32, out_channels=32, kernel_size=2, stride=2, padding=0),\n",
        "            nn.LeakyReLU(),\n",
        "            nn.Conv2d(in_channels=32, out_channels=64, kernel_size=3, stride=1, padding=0),\n",
        "            nn.LeakyReLU(),\n",
        "            nn.Conv2d(in_channels=64, out_channels=64, kernel_size=2, stride=2, padding=0),\n",
        "            nn.LeakyReLU(),\n",
        "            nn.Conv2d(in_channels=64, out_channels=128, kernel_size=3, stride=1, padding=0),\n",
        "            nn.LeakyReLU(),\n",
        "            nn.Conv2d(in_channels=128, out_channels=128, kernel_size=2, stride=2, padding=0),\n",
        "            nn.LeakyReLU(),\n",
        "            nn.Conv2d(in_channels=128, out_channels=256, kernel_size=2, stride=1, padding=0),\n",
        "            nn.LeakyReLU(),\n",
        "        )\n",
        "\n",
        "        self.fc_mu = nn.Linear(in_features=1*1*256, out_features=128)\n",
        "        self.fc_var = nn.Linear(in_features=1*1*256, out_features=128)\n",
        "\n",
        "        self.decoder_input = nn.Linear(in_features=128, out_features=1*1*256)\n",
        "\n",
        "        self.decoder = nn.Sequential(\n",
        "            nn.ConvTranspose2d(in_channels=1*1*256, out_channels=128, kernel_size=3, stride=1, padding=0),\n",
        "            nn.LeakyReLU(),\n",
        "            nn.ConvTranspose2d(in_channels=128, out_channels=128, kernel_size=2, stride=2, padding=0),\n",
        "            nn.LeakyReLU(),\n",
        "            nn.ConvTranspose2d(in_channels=128, out_channels=64, kernel_size=3, stride=1, padding=0),\n",
        "            nn.LeakyReLU(),\n",
        "            nn.ConvTranspose2d(in_channels=64, out_channels=64, kernel_size=2, stride=2, padding=0),\n",
        "            nn.LeakyReLU(),\n",
        "            nn.ConvTranspose2d(in_channels=64, out_channels=32, kernel_size=3, stride=1, padding=0),\n",
        "            nn.LeakyReLU(),\n",
        "            nn.ConvTranspose2d(in_channels=32, out_channels=3, kernel_size=2, stride=2, padding=2),\n",
        "            nn.Sigmoid(),\n",
        "        )\n",
        "    \n",
        "\n",
        "    ###############\n",
        "    def encode(self, input):\n",
        "        result = self.encoder(input) # BSx1x1x256\n",
        "        result = result.view(result.size(0), -1) # BSx(1*1*256)\n",
        "        mu = self.fc_mu(result) # BSx128\n",
        "        log_var = self.fc_var(result) # BSx128\n",
        "        return (mu, log_var)\n",
        "    \n",
        "    ###############\n",
        "    def reparameterize(self, mu, logvar):\n",
        "        std = torch.exp(0.5 * logvar)\n",
        "        esp = torch.randn_like(std)\n",
        "        z = mu + std * esp\n",
        "        return z.to(DEVICE)\n",
        "    \n",
        "    ###############\n",
        "    def decode(self, z):\n",
        "        dec_inp = self.decoder_input(z) #BSx(1*1*256)\n",
        "        dec_inp = dec_inp.view(dec_inp.size(0), 1*1*256, 1, 1) # BSx1x1x256\n",
        "        recon_img = self.decoder(dec_inp)\n",
        "        return recon_img \n",
        "    \n",
        "    ###############\n",
        "    def forward(self, img):\n",
        "        mu, logvar = self.encode(img)\n",
        "        z = self.reparameterize(mu, logvar)\n",
        "        recon_img = self.decode(z)\n",
        "        return (z, mu, logvar, recon_img)\n"
      ]
    },
    {
      "cell_type": "code",
      "execution_count": null,
      "metadata": {
        "id": "oEQ2koYLAEYP"
      },
      "outputs": [],
      "source": [
        "model = VanillaVAE().to(DEVICE)"
      ]
    },
    {
      "cell_type": "code",
      "execution_count": null,
      "metadata": {
        "id": "jwExzoRiAEa_",
        "colab": {
          "base_uri": "https://localhost:8080/"
        },
        "outputId": "87b2237c-c927-466d-866c-2fabf289462d"
      },
      "outputs": [
        {
          "output_type": "stream",
          "name": "stdout",
          "text": [
            "----------------------------------------------------------------\n",
            "        Layer (type)               Output Shape         Param #\n",
            "================================================================\n",
            "            Conv2d-1           [-1, 32, 30, 30]             896\n",
            "         LeakyReLU-2           [-1, 32, 30, 30]               0\n",
            "            Conv2d-3           [-1, 32, 15, 15]           4,128\n",
            "         LeakyReLU-4           [-1, 32, 15, 15]               0\n",
            "            Conv2d-5           [-1, 64, 13, 13]          18,496\n",
            "         LeakyReLU-6           [-1, 64, 13, 13]               0\n",
            "            Conv2d-7             [-1, 64, 6, 6]          16,448\n",
            "         LeakyReLU-8             [-1, 64, 6, 6]               0\n",
            "            Conv2d-9            [-1, 128, 4, 4]          73,856\n",
            "        LeakyReLU-10            [-1, 128, 4, 4]               0\n",
            "           Conv2d-11            [-1, 128, 2, 2]          65,664\n",
            "        LeakyReLU-12            [-1, 128, 2, 2]               0\n",
            "           Conv2d-13            [-1, 256, 1, 1]         131,328\n",
            "        LeakyReLU-14            [-1, 256, 1, 1]               0\n",
            "           Linear-15                  [-1, 128]          32,896\n",
            "           Linear-16                  [-1, 128]          32,896\n",
            "           Linear-17                  [-1, 256]          33,024\n",
            "  ConvTranspose2d-18            [-1, 128, 3, 3]         295,040\n",
            "        LeakyReLU-19            [-1, 128, 3, 3]               0\n",
            "  ConvTranspose2d-20            [-1, 128, 6, 6]          65,664\n",
            "        LeakyReLU-21            [-1, 128, 6, 6]               0\n",
            "  ConvTranspose2d-22             [-1, 64, 8, 8]          73,792\n",
            "        LeakyReLU-23             [-1, 64, 8, 8]               0\n",
            "  ConvTranspose2d-24           [-1, 64, 16, 16]          16,448\n",
            "        LeakyReLU-25           [-1, 64, 16, 16]               0\n",
            "  ConvTranspose2d-26           [-1, 32, 18, 18]          18,464\n",
            "        LeakyReLU-27           [-1, 32, 18, 18]               0\n",
            "  ConvTranspose2d-28            [-1, 3, 32, 32]             387\n",
            "          Sigmoid-29            [-1, 3, 32, 32]               0\n",
            "================================================================\n",
            "Total params: 879,427\n",
            "Trainable params: 879,427\n",
            "Non-trainable params: 0\n",
            "----------------------------------------------------------------\n",
            "Input size (MB): 0.01\n",
            "Forward/backward pass size (MB): 1.40\n",
            "Params size (MB): 3.35\n",
            "Estimated Total Size (MB): 4.77\n",
            "----------------------------------------------------------------\n"
          ]
        }
      ],
      "source": [
        "summary(model, (3, 32, 32))"
      ]
    },
    {
      "cell_type": "code",
      "execution_count": null,
      "metadata": {
        "id": "pT2YHnAHAEdj"
      },
      "outputs": [],
      "source": [
        "optimizer = torch.optim.Adam(model.parameters(), lr=1e-3) "
      ]
    },
    {
      "cell_type": "code",
      "execution_count": null,
      "metadata": {
        "id": "58se1YVDAEgS"
      },
      "outputs": [],
      "source": [
        "def criterion(recon_img, img, mu, logvar):\n",
        "    # recon_loss = F.mse_loss(recon_img, img)\n",
        "    recon_loss = F.binary_cross_entropy(recon_img, img, size_average=False)\n",
        "    KLD = torch.mean(-0.5 * torch.sum(1 + logvar - mu**2 - logvar.exp(), dim=1), dim=0)\n",
        "    return recon_loss+KLD, recon_loss, KLD"
      ]
    },
    {
      "cell_type": "code",
      "execution_count": null,
      "metadata": {
        "id": "U7LwQvwNAEix"
      },
      "outputs": [],
      "source": [
        "def train(model, iterator, optimizer, criterion):\n",
        "    model.train()\n",
        "    epoch_loss = 0\n",
        "    for idx, batch in enumerate(tqdm(iterator)):\n",
        "        images, _ = batch\n",
        "        images = images.to(DEVICE)\n",
        "        optimizer.zero_grad()\n",
        "        z, mu, logvar, recon_imgs = model(images)\n",
        "        loss, recon_loss, kld_loss = criterion(recon_imgs, images, mu, logvar)\n",
        "        loss.backward()\n",
        "        optimizer.step()\n",
        "        epoch_loss += loss.item()\n",
        "    return epoch_loss / len(iterator)"
      ]
    },
    {
      "cell_type": "code",
      "execution_count": null,
      "metadata": {
        "id": "sfKWqYcXAElP",
        "colab": {
          "base_uri": "https://localhost:8080/"
        },
        "outputId": "396194f3-afb5-4513-c937-49e531b3fe77"
      },
      "outputs": [
        {
          "output_type": "stream",
          "name": "stdout",
          "text": [
            "Epoch - 0\n"
          ]
        },
        {
          "output_type": "stream",
          "name": "stderr",
          "text": [
            "100%|██████████| 375/375 [00:06<00:00, 56.35it/s]\n"
          ]
        },
        {
          "output_type": "stream",
          "name": "stdout",
          "text": [
            "Loss - 64125.90\n",
            "\n",
            "Epoch - 1\n"
          ]
        },
        {
          "output_type": "stream",
          "name": "stderr",
          "text": [
            "100%|██████████| 375/375 [00:06<00:00, 55.74it/s]\n"
          ]
        },
        {
          "output_type": "stream",
          "name": "stdout",
          "text": [
            "Loss - 62479.19\n",
            "\n",
            "Epoch - 2\n"
          ]
        },
        {
          "output_type": "stream",
          "name": "stderr",
          "text": [
            "100%|██████████| 375/375 [00:06<00:00, 57.02it/s]\n"
          ]
        },
        {
          "output_type": "stream",
          "name": "stdout",
          "text": [
            "Loss - 61565.83\n",
            "\n",
            "Epoch - 3\n"
          ]
        },
        {
          "output_type": "stream",
          "name": "stderr",
          "text": [
            "100%|██████████| 375/375 [00:06<00:00, 56.11it/s]\n"
          ]
        },
        {
          "output_type": "stream",
          "name": "stdout",
          "text": [
            "Loss - 60855.15\n",
            "\n",
            "Epoch - 4\n"
          ]
        },
        {
          "output_type": "stream",
          "name": "stderr",
          "text": [
            "100%|██████████| 375/375 [00:06<00:00, 56.72it/s]\n"
          ]
        },
        {
          "output_type": "stream",
          "name": "stdout",
          "text": [
            "Loss - 60149.29\n",
            "\n",
            "Epoch - 5\n"
          ]
        },
        {
          "output_type": "stream",
          "name": "stderr",
          "text": [
            "100%|██████████| 375/375 [00:06<00:00, 56.18it/s]\n"
          ]
        },
        {
          "output_type": "stream",
          "name": "stdout",
          "text": [
            "Loss - 59488.81\n",
            "\n",
            "Epoch - 6\n"
          ]
        },
        {
          "output_type": "stream",
          "name": "stderr",
          "text": [
            "100%|██████████| 375/375 [00:06<00:00, 56.78it/s]\n"
          ]
        },
        {
          "output_type": "stream",
          "name": "stdout",
          "text": [
            "Loss - 59115.67\n",
            "\n",
            "Epoch - 7\n"
          ]
        },
        {
          "output_type": "stream",
          "name": "stderr",
          "text": [
            "100%|██████████| 375/375 [00:06<00:00, 55.94it/s]\n"
          ]
        },
        {
          "output_type": "stream",
          "name": "stdout",
          "text": [
            "Loss - 58805.93\n",
            "\n",
            "Epoch - 8\n"
          ]
        },
        {
          "output_type": "stream",
          "name": "stderr",
          "text": [
            "100%|██████████| 375/375 [00:06<00:00, 56.58it/s]\n"
          ]
        },
        {
          "output_type": "stream",
          "name": "stdout",
          "text": [
            "Loss - 58501.39\n",
            "\n",
            "Epoch - 9\n"
          ]
        },
        {
          "output_type": "stream",
          "name": "stderr",
          "text": [
            "100%|██████████| 375/375 [00:06<00:00, 55.68it/s]\n"
          ]
        },
        {
          "output_type": "stream",
          "name": "stdout",
          "text": [
            "Loss - 58287.80\n",
            "\n",
            "Epoch - 10\n"
          ]
        },
        {
          "output_type": "stream",
          "name": "stderr",
          "text": [
            "100%|██████████| 375/375 [00:06<00:00, 55.48it/s]\n"
          ]
        },
        {
          "output_type": "stream",
          "name": "stdout",
          "text": [
            "Loss - 58162.31\n",
            "\n",
            "Epoch - 11\n"
          ]
        },
        {
          "output_type": "stream",
          "name": "stderr",
          "text": [
            "100%|██████████| 375/375 [00:06<00:00, 56.15it/s]\n"
          ]
        },
        {
          "output_type": "stream",
          "name": "stdout",
          "text": [
            "Loss - 57940.25\n",
            "\n",
            "Epoch - 12\n"
          ]
        },
        {
          "output_type": "stream",
          "name": "stderr",
          "text": [
            "100%|██████████| 375/375 [00:06<00:00, 56.42it/s]\n"
          ]
        },
        {
          "output_type": "stream",
          "name": "stdout",
          "text": [
            "Loss - 57734.62\n",
            "\n",
            "Epoch - 13\n"
          ]
        },
        {
          "output_type": "stream",
          "name": "stderr",
          "text": [
            "100%|██████████| 375/375 [00:06<00:00, 56.14it/s]\n"
          ]
        },
        {
          "output_type": "stream",
          "name": "stdout",
          "text": [
            "Loss - 57557.09\n",
            "\n",
            "Epoch - 14\n"
          ]
        },
        {
          "output_type": "stream",
          "name": "stderr",
          "text": [
            "100%|██████████| 375/375 [00:06<00:00, 56.32it/s]\n"
          ]
        },
        {
          "output_type": "stream",
          "name": "stdout",
          "text": [
            "Loss - 57371.83\n",
            "\n",
            "Epoch - 15\n"
          ]
        },
        {
          "output_type": "stream",
          "name": "stderr",
          "text": [
            "100%|██████████| 375/375 [00:06<00:00, 56.22it/s]\n"
          ]
        },
        {
          "output_type": "stream",
          "name": "stdout",
          "text": [
            "Loss - 57265.10\n",
            "\n",
            "Epoch - 16\n"
          ]
        },
        {
          "output_type": "stream",
          "name": "stderr",
          "text": [
            "100%|██████████| 375/375 [00:06<00:00, 55.98it/s]\n"
          ]
        },
        {
          "output_type": "stream",
          "name": "stdout",
          "text": [
            "Loss - 57153.06\n",
            "\n",
            "Epoch - 17\n"
          ]
        },
        {
          "output_type": "stream",
          "name": "stderr",
          "text": [
            "100%|██████████| 375/375 [00:06<00:00, 55.93it/s]\n"
          ]
        },
        {
          "output_type": "stream",
          "name": "stdout",
          "text": [
            "Loss - 57062.78\n",
            "\n",
            "Epoch - 18\n"
          ]
        },
        {
          "output_type": "stream",
          "name": "stderr",
          "text": [
            "100%|██████████| 375/375 [00:06<00:00, 56.18it/s]\n"
          ]
        },
        {
          "output_type": "stream",
          "name": "stdout",
          "text": [
            "Loss - 56955.18\n",
            "\n",
            "Epoch - 19\n"
          ]
        },
        {
          "output_type": "stream",
          "name": "stderr",
          "text": [
            "100%|██████████| 375/375 [00:06<00:00, 56.59it/s]\n"
          ]
        },
        {
          "output_type": "stream",
          "name": "stdout",
          "text": [
            "Loss - 56877.20\n",
            "\n",
            "Epoch - 20\n"
          ]
        },
        {
          "output_type": "stream",
          "name": "stderr",
          "text": [
            "100%|██████████| 375/375 [00:06<00:00, 55.93it/s]\n"
          ]
        },
        {
          "output_type": "stream",
          "name": "stdout",
          "text": [
            "Loss - 56838.68\n",
            "\n",
            "Epoch - 21\n"
          ]
        },
        {
          "output_type": "stream",
          "name": "stderr",
          "text": [
            "100%|██████████| 375/375 [00:06<00:00, 54.74it/s]\n"
          ]
        },
        {
          "output_type": "stream",
          "name": "stdout",
          "text": [
            "Loss - 56756.27\n",
            "\n",
            "Epoch - 22\n"
          ]
        },
        {
          "output_type": "stream",
          "name": "stderr",
          "text": [
            "100%|██████████| 375/375 [00:06<00:00, 55.35it/s]\n"
          ]
        },
        {
          "output_type": "stream",
          "name": "stdout",
          "text": [
            "Loss - 56569.93\n",
            "\n",
            "Epoch - 23\n"
          ]
        },
        {
          "output_type": "stream",
          "name": "stderr",
          "text": [
            "100%|██████████| 375/375 [00:08<00:00, 43.49it/s]\n"
          ]
        },
        {
          "output_type": "stream",
          "name": "stdout",
          "text": [
            "Loss - 56522.55\n",
            "\n",
            "Epoch - 24\n"
          ]
        },
        {
          "output_type": "stream",
          "name": "stderr",
          "text": [
            "100%|██████████| 375/375 [00:06<00:00, 55.76it/s]\n"
          ]
        },
        {
          "output_type": "stream",
          "name": "stdout",
          "text": [
            "Loss - 56652.55\n",
            "\n",
            "Epoch - 25\n"
          ]
        },
        {
          "output_type": "stream",
          "name": "stderr",
          "text": [
            "100%|██████████| 375/375 [00:06<00:00, 56.05it/s]\n"
          ]
        },
        {
          "output_type": "stream",
          "name": "stdout",
          "text": [
            "Loss - 56407.89\n",
            "\n",
            "Epoch - 26\n"
          ]
        },
        {
          "output_type": "stream",
          "name": "stderr",
          "text": [
            "100%|██████████| 375/375 [00:06<00:00, 55.78it/s]\n"
          ]
        },
        {
          "output_type": "stream",
          "name": "stdout",
          "text": [
            "Loss - 56313.29\n",
            "\n",
            "Epoch - 27\n"
          ]
        },
        {
          "output_type": "stream",
          "name": "stderr",
          "text": [
            "100%|██████████| 375/375 [00:06<00:00, 55.31it/s]\n"
          ]
        },
        {
          "output_type": "stream",
          "name": "stdout",
          "text": [
            "Loss - 56298.74\n",
            "\n",
            "Epoch - 28\n"
          ]
        },
        {
          "output_type": "stream",
          "name": "stderr",
          "text": [
            "100%|██████████| 375/375 [00:06<00:00, 55.44it/s]\n"
          ]
        },
        {
          "output_type": "stream",
          "name": "stdout",
          "text": [
            "Loss - 56231.07\n",
            "\n",
            "Epoch - 29\n"
          ]
        },
        {
          "output_type": "stream",
          "name": "stderr",
          "text": [
            "100%|██████████| 375/375 [00:06<00:00, 55.63it/s]\n"
          ]
        },
        {
          "output_type": "stream",
          "name": "stdout",
          "text": [
            "Loss - 56188.03\n",
            "\n",
            "Epoch - 30\n"
          ]
        },
        {
          "output_type": "stream",
          "name": "stderr",
          "text": [
            "100%|██████████| 375/375 [00:06<00:00, 55.39it/s]\n"
          ]
        },
        {
          "output_type": "stream",
          "name": "stdout",
          "text": [
            "Loss - 56164.94\n",
            "\n",
            "Epoch - 31\n"
          ]
        },
        {
          "output_type": "stream",
          "name": "stderr",
          "text": [
            "100%|██████████| 375/375 [00:06<00:00, 55.20it/s]\n"
          ]
        },
        {
          "output_type": "stream",
          "name": "stdout",
          "text": [
            "Loss - 56107.12\n",
            "\n",
            "Epoch - 32\n"
          ]
        },
        {
          "output_type": "stream",
          "name": "stderr",
          "text": [
            "100%|██████████| 375/375 [00:06<00:00, 55.63it/s]\n"
          ]
        },
        {
          "output_type": "stream",
          "name": "stdout",
          "text": [
            "Loss - 56084.07\n",
            "\n",
            "Epoch - 33\n"
          ]
        },
        {
          "output_type": "stream",
          "name": "stderr",
          "text": [
            "100%|██████████| 375/375 [00:06<00:00, 55.17it/s]\n"
          ]
        },
        {
          "output_type": "stream",
          "name": "stdout",
          "text": [
            "Loss - 56054.96\n",
            "\n",
            "Epoch - 34\n"
          ]
        },
        {
          "output_type": "stream",
          "name": "stderr",
          "text": [
            "100%|██████████| 375/375 [00:06<00:00, 55.00it/s]\n"
          ]
        },
        {
          "output_type": "stream",
          "name": "stdout",
          "text": [
            "Loss - 56015.45\n",
            "\n",
            "Epoch - 35\n"
          ]
        },
        {
          "output_type": "stream",
          "name": "stderr",
          "text": [
            "100%|██████████| 375/375 [00:06<00:00, 55.10it/s]\n"
          ]
        },
        {
          "output_type": "stream",
          "name": "stdout",
          "text": [
            "Loss - 55990.63\n",
            "\n",
            "Epoch - 36\n"
          ]
        },
        {
          "output_type": "stream",
          "name": "stderr",
          "text": [
            "100%|██████████| 375/375 [00:06<00:00, 55.82it/s]\n"
          ]
        },
        {
          "output_type": "stream",
          "name": "stdout",
          "text": [
            "Loss - 55922.43\n",
            "\n",
            "Epoch - 37\n"
          ]
        },
        {
          "output_type": "stream",
          "name": "stderr",
          "text": [
            "100%|██████████| 375/375 [00:06<00:00, 54.80it/s]\n"
          ]
        },
        {
          "output_type": "stream",
          "name": "stdout",
          "text": [
            "Loss - 55893.29\n",
            "\n",
            "Epoch - 38\n"
          ]
        },
        {
          "output_type": "stream",
          "name": "stderr",
          "text": [
            "100%|██████████| 375/375 [00:06<00:00, 55.08it/s]\n"
          ]
        },
        {
          "output_type": "stream",
          "name": "stdout",
          "text": [
            "Loss - 55855.15\n",
            "\n",
            "Epoch - 39\n"
          ]
        },
        {
          "output_type": "stream",
          "name": "stderr",
          "text": [
            "100%|██████████| 375/375 [00:10<00:00, 35.45it/s]\n"
          ]
        },
        {
          "output_type": "stream",
          "name": "stdout",
          "text": [
            "Loss - 55830.92\n",
            "\n",
            "Epoch - 40\n"
          ]
        },
        {
          "output_type": "stream",
          "name": "stderr",
          "text": [
            "100%|██████████| 375/375 [00:10<00:00, 37.47it/s]\n"
          ]
        },
        {
          "output_type": "stream",
          "name": "stdout",
          "text": [
            "Loss - 55820.41\n",
            "\n",
            "Epoch - 41\n"
          ]
        },
        {
          "output_type": "stream",
          "name": "stderr",
          "text": [
            "100%|██████████| 375/375 [00:09<00:00, 41.61it/s]\n"
          ]
        },
        {
          "output_type": "stream",
          "name": "stdout",
          "text": [
            "Loss - 55771.56\n",
            "\n",
            "Epoch - 42\n"
          ]
        },
        {
          "output_type": "stream",
          "name": "stderr",
          "text": [
            "100%|██████████| 375/375 [00:07<00:00, 48.61it/s]\n"
          ]
        },
        {
          "output_type": "stream",
          "name": "stdout",
          "text": [
            "Loss - 55724.35\n",
            "\n",
            "Epoch - 43\n"
          ]
        },
        {
          "output_type": "stream",
          "name": "stderr",
          "text": [
            "100%|██████████| 375/375 [00:10<00:00, 35.97it/s]\n"
          ]
        },
        {
          "output_type": "stream",
          "name": "stdout",
          "text": [
            "Loss - 55714.18\n",
            "\n",
            "Epoch - 44\n"
          ]
        },
        {
          "output_type": "stream",
          "name": "stderr",
          "text": [
            "100%|██████████| 375/375 [00:11<00:00, 34.09it/s]\n"
          ]
        },
        {
          "output_type": "stream",
          "name": "stdout",
          "text": [
            "Loss - 55701.87\n",
            "\n",
            "Epoch - 45\n"
          ]
        },
        {
          "output_type": "stream",
          "name": "stderr",
          "text": [
            "100%|██████████| 375/375 [00:10<00:00, 35.47it/s]\n"
          ]
        },
        {
          "output_type": "stream",
          "name": "stdout",
          "text": [
            "Loss - 55678.73\n",
            "\n",
            "Epoch - 46\n"
          ]
        },
        {
          "output_type": "stream",
          "name": "stderr",
          "text": [
            "100%|██████████| 375/375 [00:10<00:00, 35.58it/s]\n"
          ]
        },
        {
          "output_type": "stream",
          "name": "stdout",
          "text": [
            "Loss - 55640.75\n",
            "\n",
            "Epoch - 47\n"
          ]
        },
        {
          "output_type": "stream",
          "name": "stderr",
          "text": [
            "100%|██████████| 375/375 [00:09<00:00, 38.03it/s]\n"
          ]
        },
        {
          "output_type": "stream",
          "name": "stdout",
          "text": [
            "Loss - 55606.89\n",
            "\n",
            "Epoch - 48\n"
          ]
        },
        {
          "output_type": "stream",
          "name": "stderr",
          "text": [
            "100%|██████████| 375/375 [00:09<00:00, 41.28it/s]\n"
          ]
        },
        {
          "output_type": "stream",
          "name": "stdout",
          "text": [
            "Loss - 55591.01\n",
            "\n",
            "Epoch - 49\n"
          ]
        },
        {
          "output_type": "stream",
          "name": "stderr",
          "text": [
            "100%|██████████| 375/375 [00:10<00:00, 36.31it/s]\n"
          ]
        },
        {
          "output_type": "stream",
          "name": "stdout",
          "text": [
            "Loss - 55557.22\n",
            "\n",
            "Epoch - 50\n"
          ]
        },
        {
          "output_type": "stream",
          "name": "stderr",
          "text": [
            "100%|██████████| 375/375 [00:09<00:00, 38.29it/s]\n"
          ]
        },
        {
          "output_type": "stream",
          "name": "stdout",
          "text": [
            "Loss - 55541.42\n",
            "\n",
            "Epoch - 51\n"
          ]
        },
        {
          "output_type": "stream",
          "name": "stderr",
          "text": [
            "100%|██████████| 375/375 [00:09<00:00, 38.98it/s]\n"
          ]
        },
        {
          "output_type": "stream",
          "name": "stdout",
          "text": [
            "Loss - 55514.42\n",
            "\n",
            "Epoch - 52\n"
          ]
        },
        {
          "output_type": "stream",
          "name": "stderr",
          "text": [
            "100%|██████████| 375/375 [00:07<00:00, 51.26it/s]\n"
          ]
        },
        {
          "output_type": "stream",
          "name": "stdout",
          "text": [
            "Loss - 55527.43\n",
            "\n",
            "Epoch - 53\n"
          ]
        },
        {
          "output_type": "stream",
          "name": "stderr",
          "text": [
            "100%|██████████| 375/375 [00:08<00:00, 44.87it/s]\n"
          ]
        },
        {
          "output_type": "stream",
          "name": "stdout",
          "text": [
            "Loss - 55464.70\n",
            "\n",
            "Epoch - 54\n"
          ]
        },
        {
          "output_type": "stream",
          "name": "stderr",
          "text": [
            "100%|██████████| 375/375 [00:07<00:00, 48.92it/s]\n"
          ]
        },
        {
          "output_type": "stream",
          "name": "stdout",
          "text": [
            "Loss - 55446.13\n",
            "\n",
            "Epoch - 55\n"
          ]
        },
        {
          "output_type": "stream",
          "name": "stderr",
          "text": [
            "100%|██████████| 375/375 [00:09<00:00, 37.82it/s]\n"
          ]
        },
        {
          "output_type": "stream",
          "name": "stdout",
          "text": [
            "Loss - 55433.81\n",
            "\n",
            "Epoch - 56\n"
          ]
        },
        {
          "output_type": "stream",
          "name": "stderr",
          "text": [
            "100%|██████████| 375/375 [00:09<00:00, 41.38it/s]\n"
          ]
        },
        {
          "output_type": "stream",
          "name": "stdout",
          "text": [
            "Loss - 55404.24\n",
            "\n",
            "Epoch - 57\n"
          ]
        },
        {
          "output_type": "stream",
          "name": "stderr",
          "text": [
            "100%|██████████| 375/375 [00:09<00:00, 41.46it/s]\n"
          ]
        },
        {
          "output_type": "stream",
          "name": "stdout",
          "text": [
            "Loss - 55388.38\n",
            "\n",
            "Epoch - 58\n"
          ]
        },
        {
          "output_type": "stream",
          "name": "stderr",
          "text": [
            "100%|██████████| 375/375 [00:09<00:00, 40.87it/s]\n"
          ]
        },
        {
          "output_type": "stream",
          "name": "stdout",
          "text": [
            "Loss - 55381.52\n",
            "\n",
            "Epoch - 59\n"
          ]
        },
        {
          "output_type": "stream",
          "name": "stderr",
          "text": [
            "100%|██████████| 375/375 [00:06<00:00, 54.68it/s]\n"
          ]
        },
        {
          "output_type": "stream",
          "name": "stdout",
          "text": [
            "Loss - 55354.82\n",
            "\n",
            "Epoch - 60\n"
          ]
        },
        {
          "output_type": "stream",
          "name": "stderr",
          "text": [
            "100%|██████████| 375/375 [00:06<00:00, 54.42it/s]\n"
          ]
        },
        {
          "output_type": "stream",
          "name": "stdout",
          "text": [
            "Loss - 55361.67\n",
            "\n",
            "Epoch - 61\n"
          ]
        },
        {
          "output_type": "stream",
          "name": "stderr",
          "text": [
            "100%|██████████| 375/375 [00:07<00:00, 51.54it/s]\n"
          ]
        },
        {
          "output_type": "stream",
          "name": "stdout",
          "text": [
            "Loss - 55351.28\n",
            "\n",
            "Epoch - 62\n"
          ]
        },
        {
          "output_type": "stream",
          "name": "stderr",
          "text": [
            "100%|██████████| 375/375 [00:06<00:00, 54.65it/s]\n"
          ]
        },
        {
          "output_type": "stream",
          "name": "stdout",
          "text": [
            "Loss - 55327.20\n",
            "\n",
            "Epoch - 63\n"
          ]
        },
        {
          "output_type": "stream",
          "name": "stderr",
          "text": [
            "100%|██████████| 375/375 [00:06<00:00, 54.40it/s]\n"
          ]
        },
        {
          "output_type": "stream",
          "name": "stdout",
          "text": [
            "Loss - 55279.12\n",
            "\n",
            "Epoch - 64\n"
          ]
        },
        {
          "output_type": "stream",
          "name": "stderr",
          "text": [
            "100%|██████████| 375/375 [00:06<00:00, 54.95it/s]\n"
          ]
        },
        {
          "output_type": "stream",
          "name": "stdout",
          "text": [
            "Loss - 55240.08\n",
            "\n",
            "Epoch - 65\n"
          ]
        },
        {
          "output_type": "stream",
          "name": "stderr",
          "text": [
            "100%|██████████| 375/375 [00:06<00:00, 54.53it/s]\n"
          ]
        },
        {
          "output_type": "stream",
          "name": "stdout",
          "text": [
            "Loss - 55269.16\n",
            "\n",
            "Epoch - 66\n"
          ]
        },
        {
          "output_type": "stream",
          "name": "stderr",
          "text": [
            "100%|██████████| 375/375 [00:06<00:00, 55.26it/s]\n"
          ]
        },
        {
          "output_type": "stream",
          "name": "stdout",
          "text": [
            "Loss - 55240.36\n",
            "\n",
            "Epoch - 67\n"
          ]
        },
        {
          "output_type": "stream",
          "name": "stderr",
          "text": [
            "100%|██████████| 375/375 [00:06<00:00, 55.02it/s]\n"
          ]
        },
        {
          "output_type": "stream",
          "name": "stdout",
          "text": [
            "Loss - 55226.58\n",
            "\n",
            "Epoch - 68\n"
          ]
        },
        {
          "output_type": "stream",
          "name": "stderr",
          "text": [
            "100%|██████████| 375/375 [00:06<00:00, 54.60it/s]\n"
          ]
        },
        {
          "output_type": "stream",
          "name": "stdout",
          "text": [
            "Loss - 55218.78\n",
            "\n",
            "Epoch - 69\n"
          ]
        },
        {
          "output_type": "stream",
          "name": "stderr",
          "text": [
            "100%|██████████| 375/375 [00:07<00:00, 48.61it/s]\n"
          ]
        },
        {
          "output_type": "stream",
          "name": "stdout",
          "text": [
            "Loss - 55206.41\n",
            "\n",
            "Epoch - 70\n"
          ]
        },
        {
          "output_type": "stream",
          "name": "stderr",
          "text": [
            "100%|██████████| 375/375 [00:06<00:00, 54.88it/s]\n"
          ]
        },
        {
          "output_type": "stream",
          "name": "stdout",
          "text": [
            "Loss - 55209.40\n",
            "\n",
            "Epoch - 71\n"
          ]
        },
        {
          "output_type": "stream",
          "name": "stderr",
          "text": [
            "100%|██████████| 375/375 [00:06<00:00, 54.62it/s]\n"
          ]
        },
        {
          "output_type": "stream",
          "name": "stdout",
          "text": [
            "Loss - 55188.48\n",
            "\n",
            "Epoch - 72\n"
          ]
        },
        {
          "output_type": "stream",
          "name": "stderr",
          "text": [
            "100%|██████████| 375/375 [00:06<00:00, 54.87it/s]\n"
          ]
        },
        {
          "output_type": "stream",
          "name": "stdout",
          "text": [
            "Loss - 55149.77\n",
            "\n",
            "Epoch - 73\n"
          ]
        },
        {
          "output_type": "stream",
          "name": "stderr",
          "text": [
            "100%|██████████| 375/375 [00:06<00:00, 53.90it/s]\n"
          ]
        },
        {
          "output_type": "stream",
          "name": "stdout",
          "text": [
            "Loss - 55135.27\n",
            "\n",
            "Epoch - 74\n"
          ]
        },
        {
          "output_type": "stream",
          "name": "stderr",
          "text": [
            "100%|██████████| 375/375 [00:07<00:00, 53.48it/s]\n"
          ]
        },
        {
          "output_type": "stream",
          "name": "stdout",
          "text": [
            "Loss - 55429.67\n",
            "\n",
            "Epoch - 75\n"
          ]
        },
        {
          "output_type": "stream",
          "name": "stderr",
          "text": [
            "100%|██████████| 375/375 [00:06<00:00, 54.64it/s]\n"
          ]
        },
        {
          "output_type": "stream",
          "name": "stdout",
          "text": [
            "Loss - 55159.77\n",
            "\n",
            "Epoch - 76\n"
          ]
        },
        {
          "output_type": "stream",
          "name": "stderr",
          "text": [
            "100%|██████████| 375/375 [00:07<00:00, 52.39it/s]\n"
          ]
        },
        {
          "output_type": "stream",
          "name": "stdout",
          "text": [
            "Loss - 55088.15\n",
            "\n",
            "Epoch - 77\n"
          ]
        },
        {
          "output_type": "stream",
          "name": "stderr",
          "text": [
            "100%|██████████| 375/375 [00:07<00:00, 53.36it/s]\n"
          ]
        },
        {
          "output_type": "stream",
          "name": "stdout",
          "text": [
            "Loss - 55041.60\n",
            "\n",
            "Epoch - 78\n"
          ]
        },
        {
          "output_type": "stream",
          "name": "stderr",
          "text": [
            "100%|██████████| 375/375 [00:06<00:00, 55.22it/s]\n"
          ]
        },
        {
          "output_type": "stream",
          "name": "stdout",
          "text": [
            "Loss - 55044.22\n",
            "\n",
            "Epoch - 79\n"
          ]
        },
        {
          "output_type": "stream",
          "name": "stderr",
          "text": [
            "100%|██████████| 375/375 [00:06<00:00, 54.26it/s]\n"
          ]
        },
        {
          "output_type": "stream",
          "name": "stdout",
          "text": [
            "Loss - 55058.27\n",
            "\n",
            "Epoch - 80\n"
          ]
        },
        {
          "output_type": "stream",
          "name": "stderr",
          "text": [
            "100%|██████████| 375/375 [00:06<00:00, 53.94it/s]\n"
          ]
        },
        {
          "output_type": "stream",
          "name": "stdout",
          "text": [
            "Loss - 55056.39\n",
            "\n",
            "Epoch - 81\n"
          ]
        },
        {
          "output_type": "stream",
          "name": "stderr",
          "text": [
            "100%|██████████| 375/375 [00:06<00:00, 54.88it/s]\n"
          ]
        },
        {
          "output_type": "stream",
          "name": "stdout",
          "text": [
            "Loss - 55054.13\n",
            "\n",
            "Epoch - 82\n"
          ]
        },
        {
          "output_type": "stream",
          "name": "stderr",
          "text": [
            "100%|██████████| 375/375 [00:06<00:00, 54.80it/s]\n"
          ]
        },
        {
          "output_type": "stream",
          "name": "stdout",
          "text": [
            "Loss - 55034.61\n",
            "\n",
            "Epoch - 83\n"
          ]
        },
        {
          "output_type": "stream",
          "name": "stderr",
          "text": [
            "100%|██████████| 375/375 [00:06<00:00, 54.50it/s]\n"
          ]
        },
        {
          "output_type": "stream",
          "name": "stdout",
          "text": [
            "Loss - 55041.38\n",
            "\n",
            "Epoch - 84\n"
          ]
        },
        {
          "output_type": "stream",
          "name": "stderr",
          "text": [
            "100%|██████████| 375/375 [00:06<00:00, 55.06it/s]\n"
          ]
        },
        {
          "output_type": "stream",
          "name": "stdout",
          "text": [
            "Loss - 55019.55\n",
            "\n",
            "Epoch - 85\n"
          ]
        },
        {
          "output_type": "stream",
          "name": "stderr",
          "text": [
            "100%|██████████| 375/375 [00:06<00:00, 54.36it/s]\n"
          ]
        },
        {
          "output_type": "stream",
          "name": "stdout",
          "text": [
            "Loss - 54998.47\n",
            "\n",
            "Epoch - 86\n"
          ]
        },
        {
          "output_type": "stream",
          "name": "stderr",
          "text": [
            "100%|██████████| 375/375 [00:06<00:00, 54.90it/s]\n"
          ]
        },
        {
          "output_type": "stream",
          "name": "stdout",
          "text": [
            "Loss - 55002.32\n",
            "\n",
            "Epoch - 87\n"
          ]
        },
        {
          "output_type": "stream",
          "name": "stderr",
          "text": [
            "100%|██████████| 375/375 [00:06<00:00, 55.03it/s]\n"
          ]
        },
        {
          "output_type": "stream",
          "name": "stdout",
          "text": [
            "Loss - 54997.23\n",
            "\n",
            "Epoch - 88\n"
          ]
        },
        {
          "output_type": "stream",
          "name": "stderr",
          "text": [
            "100%|██████████| 375/375 [00:06<00:00, 54.72it/s]\n"
          ]
        },
        {
          "output_type": "stream",
          "name": "stdout",
          "text": [
            "Loss - 54994.29\n",
            "\n",
            "Epoch - 89\n"
          ]
        },
        {
          "output_type": "stream",
          "name": "stderr",
          "text": [
            "100%|██████████| 375/375 [00:06<00:00, 54.54it/s]\n"
          ]
        },
        {
          "output_type": "stream",
          "name": "stdout",
          "text": [
            "Loss - 54965.50\n",
            "\n",
            "Epoch - 90\n"
          ]
        },
        {
          "output_type": "stream",
          "name": "stderr",
          "text": [
            "100%|██████████| 375/375 [00:06<00:00, 54.86it/s]\n"
          ]
        },
        {
          "output_type": "stream",
          "name": "stdout",
          "text": [
            "Loss - 54965.77\n",
            "\n",
            "Epoch - 91\n"
          ]
        },
        {
          "output_type": "stream",
          "name": "stderr",
          "text": [
            "100%|██████████| 375/375 [00:06<00:00, 55.05it/s]\n"
          ]
        },
        {
          "output_type": "stream",
          "name": "stdout",
          "text": [
            "Loss - 55005.30\n",
            "\n",
            "Epoch - 92\n"
          ]
        },
        {
          "output_type": "stream",
          "name": "stderr",
          "text": [
            "100%|██████████| 375/375 [00:06<00:00, 54.53it/s]\n"
          ]
        },
        {
          "output_type": "stream",
          "name": "stdout",
          "text": [
            "Loss - 54959.36\n",
            "\n",
            "Epoch - 93\n"
          ]
        },
        {
          "output_type": "stream",
          "name": "stderr",
          "text": [
            "100%|██████████| 375/375 [00:06<00:00, 54.62it/s]\n"
          ]
        },
        {
          "output_type": "stream",
          "name": "stdout",
          "text": [
            "Loss - 54912.25\n",
            "\n",
            "Epoch - 94\n"
          ]
        },
        {
          "output_type": "stream",
          "name": "stderr",
          "text": [
            "100%|██████████| 375/375 [00:06<00:00, 54.38it/s]\n"
          ]
        },
        {
          "output_type": "stream",
          "name": "stdout",
          "text": [
            "Loss - 54899.38\n",
            "\n",
            "Epoch - 95\n"
          ]
        },
        {
          "output_type": "stream",
          "name": "stderr",
          "text": [
            "100%|██████████| 375/375 [00:06<00:00, 54.59it/s]\n"
          ]
        },
        {
          "output_type": "stream",
          "name": "stdout",
          "text": [
            "Loss - 54915.65\n",
            "\n",
            "Epoch - 96\n"
          ]
        },
        {
          "output_type": "stream",
          "name": "stderr",
          "text": [
            "100%|██████████| 375/375 [00:06<00:00, 54.62it/s]\n"
          ]
        },
        {
          "output_type": "stream",
          "name": "stdout",
          "text": [
            "Loss - 54897.15\n",
            "\n",
            "Epoch - 97\n"
          ]
        },
        {
          "output_type": "stream",
          "name": "stderr",
          "text": [
            "100%|██████████| 375/375 [00:06<00:00, 54.14it/s]\n"
          ]
        },
        {
          "output_type": "stream",
          "name": "stdout",
          "text": [
            "Loss - 54932.60\n",
            "\n",
            "Epoch - 98\n"
          ]
        },
        {
          "output_type": "stream",
          "name": "stderr",
          "text": [
            "100%|██████████| 375/375 [00:06<00:00, 54.01it/s]\n"
          ]
        },
        {
          "output_type": "stream",
          "name": "stdout",
          "text": [
            "Loss - 54903.13\n",
            "\n",
            "Epoch - 99\n"
          ]
        },
        {
          "output_type": "stream",
          "name": "stderr",
          "text": [
            "100%|██████████| 375/375 [00:06<00:00, 54.42it/s]"
          ]
        },
        {
          "output_type": "stream",
          "name": "stdout",
          "text": [
            "Loss - 54875.23\n",
            "\n"
          ]
        },
        {
          "output_type": "stream",
          "name": "stderr",
          "text": [
            "\n"
          ]
        }
      ],
      "source": [
        "for epoch in range(100):\n",
        "    print(f\"Epoch - {epoch}\")\n",
        "    loss = train(model, train_loader, optimizer, criterion)\n",
        "    print(f\"Loss - {loss:.2f}\\n\")"
      ]
    },
    {
      "cell_type": "code",
      "execution_count": null,
      "metadata": {
        "id": "E9Lov-mjAEn_",
        "colab": {
          "base_uri": "https://localhost:8080/",
          "height": 341
        },
        "outputId": "43156da3-9f6d-4c9b-b5f2-621935e1ae07"
      },
      "outputs": [
        {
          "output_type": "stream",
          "name": "stdout",
          "text": [
            "torch.Size([32, 128]) tensor([[ 0.8698, -0.3983, -1.1060,  ...,  0.1320,  0.9469, -0.8420],\n",
            "        [ 0.7929,  0.1079, -1.0245,  ...,  0.3186,  0.5060,  0.1766],\n",
            "        [-0.0860, -1.1919, -2.0907,  ..., -0.3796,  0.5600,  0.2042],\n",
            "        ...,\n",
            "        [ 0.2908,  0.8388, -0.8042,  ..., -0.0151,  4.1679, -0.4101],\n",
            "        [ 0.1875,  0.4757, -0.5077,  ..., -0.0189,  1.4018,  0.2869],\n",
            "        [ 0.2325, -0.5292, -1.0224,  ...,  1.5305, -1.6353, -0.5842]],\n",
            "       device='cuda:0')\n"
          ]
        },
        {
          "output_type": "display_data",
          "data": {
            "text/plain": [
              "<Figure size 432x288 with 2 Axes>"
            ],
            "image/png": "[encoded data removed]"
          },
          "metadata": {
            "needs_background": "light"
          }
        }
      ],
      "source": [
        "model.eval()\n",
        "with torch.no_grad():\n",
        "    for data in random.sample(list(test_loader), 1):\n",
        "        imgs, _ = data\n",
        "        imgs = imgs.to(DEVICE)\n",
        "        img = np.transpose(imgs[0].cpu().numpy(), [1,2,0])\n",
        "        plt.subplot(121)\n",
        "        plt.imshow(np.squeeze(img))\n",
        "        z, mu, logvar, out = model(imgs)\n",
        "        print(z.shape, z)\n",
        "        outimg = np.transpose(out[0].cpu().numpy(), [1,2,0])\n",
        "        plt.subplot(122)\n",
        "        plt.imshow(np.squeeze(outimg))\n",
        "        break"
      ]
    },
    {
      "cell_type": "code",
      "execution_count": null,
      "metadata": {
        "id": "n50XvMwFAEqX"
      },
      "outputs": [],
      "source": [
        "import pandas as pd\n",
        "from gensim.models.callbacks import CallbackAny2Vec\n",
        "from gensim.models import Word2Vec\n",
        "from sklearn.decomposition import PCA\n",
        "import matplotlib.pyplot as plt\n",
        "import matplotlib.font_manager as fm"
      ]
    },
    {
      "cell_type": "code",
      "source": [
        "test_transform = torchvision.transforms.Compose([\n",
        "    torchvision.transforms.ToPILImage(),\n",
        "    torchvision.transforms.Resize((32, 32)),\n",
        "    torchvision.transforms.ToTensor(),\n",
        "    # torchvision.transforms.Normalize((0.5), (0.5)),\n",
        "])\n",
        "\n",
        "embeddings = []\n",
        "for idx in range(172, 172+50):\n",
        "    img_path = f'/content/DatasetBangla/Test/{idx}/bcc000020.bmp'\n",
        "    img = test_transform(cv2.imread(img_path))\n",
        "    # print(img.shape)\n",
        "\n",
        "    z, mu, logvar, out = model(img.unsqueeze(0).to(DEVICE))\n",
        "    embd = z\n",
        "    embd = embd.view(-1, embd.shape[1])\n",
        "    # print(embd.shape, recon.shape)\n",
        "    embeddings.append(list(embd[0].cpu().detach().numpy()))   \n",
        "\n",
        "np.array(embeddings).shape"
      ],
      "metadata": {
        "colab": {
          "base_uri": "https://localhost:8080/"
        },
        "id": "2yR0TsZevWTH",
        "outputId": "9450157b-1490-42d6-d95b-ddc948d7ec5d"
      },
      "execution_count": null,
      "outputs": [
        {
          "output_type": "execute_result",
          "data": {
            "text/plain": [
              "(50, 128)"
            ]
          },
          "metadata": {},
          "execution_count": 44
        }
      ]
    },
    {
      "cell_type": "code",
      "execution_count": null,
      "metadata": {
        "id": "S2o11bcEAEsy",
        "colab": {
          "base_uri": "https://localhost:8080/",
          "height": 483
        },
        "outputId": "f829920f-4a6e-463e-960a-718f9fe08f8f"
      },
      "outputs": [
        {
          "output_type": "display_data",
          "data": {
            "text/plain": [
              "<Figure size 1440x576 with 1 Axes>"
            ],
            "image/png": "[encoded data removed]"
          },
          "metadata": {
            "needs_background": "light"
          }
        }
      ],
      "source": [
        "prop = fm.FontProperties(fname='/content/drive/MyDrive/PROJECTS/ZS-GZS HCR/required files/kalpurush.ttf')\n",
        "\n",
        "X = embeddings\n",
        "pca = PCA(n_components=2)\n",
        "result = pca.fit_transform(X)\n",
        "\n",
        "plt.figure(figsize=(20, 8))\n",
        "plt.scatter(result[:, 0], result[:, 1])\n",
        "\n",
        "chars = [\n",
        "    'অ', 'আ', 'ই', 'ঈ', 'উ', 'ঊ', 'ঋ', 'এ', 'ঐ', 'ও', 'ঔ', 'ক', 'খ', 'গ', 'ঘ', 'ঙ', 'চ', 'ছ', 'জ', 'ঝ', 'ঞ', 'ট', 'ঠ', 'ড', \n",
        "    'ঢ', 'ণ', 'ত', 'থ', 'দ', 'ধ', 'ন', 'প', 'ফ', 'ব', 'ভ', 'ম', 'য', 'র', 'ল', 'শ', 'ষ', 'স', 'হ', 'ড়', 'ঢ়', 'য়', 'ৎ',' ং',' ঃ', ' ঁ',\n",
        "    # 'অনুস্বার','বিসর্গ', 'চন্দ্রবিন্দু'\n",
        "]\n",
        "\n",
        "for i, char in enumerate(chars):\n",
        "    plt.annotate(\n",
        "        char,\n",
        "        xy = (result[i, 0], result[i, 1]),\n",
        "        fontproperties=prop,\n",
        "        fontsize=15\n",
        "    )\n",
        "\n",
        "plt.show()"
      ]
    },
    {
      "cell_type": "code",
      "source": [
        ""
      ],
      "metadata": {
        "id": "0beeK5Qc7f8j"
      },
      "execution_count": null,
      "outputs": []
    },
    {
      "cell_type": "code",
      "source": [
        ""
      ],
      "metadata": {
        "id": "ScC5I9dcBT85"
      },
      "execution_count": null,
      "outputs": []
    },
    {
      "cell_type": "code",
      "source": [
        ""
      ],
      "metadata": {
        "id": "l9u2QxKpBT_t"
      },
      "execution_count": null,
      "outputs": []
    },
    {
      "cell_type": "code",
      "execution_count": null,
      "metadata": {
        "id": "3Gt8lzINAEvX",
        "colab": {
          "base_uri": "https://localhost:8080/"
        },
        "outputId": "d2aaa749-1b8f-4e4c-fb66-a7bc5f5197b3"
      },
      "outputs": [
        {
          "output_type": "execute_result",
          "data": {
            "text/plain": [
              "(50, 128)"
            ]
          },
          "metadata": {},
          "execution_count": 68
        }
      ],
      "source": [
        "embeddings = []\n",
        "for idx in range(172, 172+50):\n",
        "    img_path = f'/content/DatasetBangla/Train/{idx}/'\n",
        "    imgs_paths = glob.glob(os.path.join(img_path, '*.*'))\n",
        "    \n",
        "    embeds = 0\n",
        "    for img_path in imgs_paths:\n",
        "        img = test_transform(cv2.imread(img_path))\n",
        "        z, mu, logvar, out = model(img.unsqueeze(0).to(DEVICE))\n",
        "        embd = z.cpu().detach().numpy().squeeze()\n",
        "        embeds += embd\n",
        "    \n",
        "    embeds = embeds / len(imgs_paths)\n",
        "    # print(embeds.shape, embeds)\n",
        "    embeddings.append(embeds)\n",
        "\n",
        "np.array(embeddings).shape"
      ]
    },
    {
      "cell_type": "code",
      "execution_count": null,
      "metadata": {
        "id": "EtpOCFWVAEx4",
        "colab": {
          "base_uri": "https://localhost:8080/",
          "height": 483
        },
        "outputId": "a0a4904c-c8a2-470d-eff1-6bc77b54ea37"
      },
      "outputs": [
        {
          "output_type": "display_data",
          "data": {
            "text/plain": [
              "<Figure size 1440x576 with 1 Axes>"
            ],
            "image/png": "[encoded data removed]"
          },
          "metadata": {
            "needs_background": "light"
          }
        }
      ],
      "source": [
        "prop = fm.FontProperties(fname='/content/drive/MyDrive/PROJECTS/ZS-GZS HCR/required files/kalpurush.ttf')\n",
        "\n",
        "X = embeddings\n",
        "pca = PCA(n_components=2)\n",
        "result = pca.fit_transform(X)\n",
        "\n",
        "plt.figure(figsize=(20, 8))\n",
        "plt.scatter(result[:, 0], result[:, 1])\n",
        "\n",
        "chars = [\n",
        "    'অ', 'আ', 'ই', 'ঈ', 'উ', 'ঊ', 'ঋ', 'এ', 'ঐ', 'ও', 'ঔ', 'ক', 'খ', 'গ', 'ঘ', 'ঙ', 'চ', 'ছ', 'জ', 'ঝ', 'ঞ', 'ট', 'ঠ', 'ড', \n",
        "    'ঢ', 'ণ', 'ত', 'থ', 'দ', 'ধ', 'ন', 'প', 'ফ', 'ব', 'ভ', 'ম', 'য', 'র', 'ল', 'শ', 'ষ', 'স', 'হ', 'ড়', 'ঢ়', 'য়', 'ৎ',' ং',' ঃ', ' ঁ',\n",
        "    # 'অনুস্বার','বিসর্গ', 'চন্দ্রবিন্দু'\n",
        "]\n",
        "\n",
        "for i, char in enumerate(chars):\n",
        "    plt.annotate(\n",
        "        char,\n",
        "        xy = (result[i, 0], result[i, 1]),\n",
        "        fontproperties=prop,\n",
        "        fontsize=15\n",
        "    )\n",
        "\n",
        "plt.show()"
      ]
    },
    {
      "cell_type": "code",
      "execution_count": null,
      "metadata": {
        "id": "LwWb82U0AE0o"
      },
      "outputs": [],
      "source": [
        ""
      ]
    },
    {
      "cell_type": "code",
      "execution_count": null,
      "metadata": {
        "id": "AdIoIc1qAE3A"
      },
      "outputs": [],
      "source": [
        ""
      ]
    },
    {
      "cell_type": "code",
      "execution_count": null,
      "metadata": {
        "id": "X-nX8T01AE5f"
      },
      "outputs": [],
      "source": [
        ""
      ]
    },
    {
      "cell_type": "code",
      "execution_count": null,
      "metadata": {
        "id": "4VMvsSJEAE8I"
      },
      "outputs": [],
      "source": [
        ""
      ]
    },
    {
      "cell_type": "code",
      "execution_count": null,
      "metadata": {
        "id": "spgzuw4mAE-w"
      },
      "outputs": [],
      "source": [
        ""
      ]
    }
  ],
  "metadata": {
    "accelerator": "GPU",
    "colab": {
      "collapsed_sections": [],
      "name": "VariationalAutoencoder.ipynb",
      "provenance": []
    },
    "gpuClass": "standard",
    "kernelspec": {
      "display_name": "Python 3",
      "name": "python3"
    },
    "language_info": {
      "name": "python"
    }
  },
  "nbformat": 4,
  "nbformat_minor": 0
}
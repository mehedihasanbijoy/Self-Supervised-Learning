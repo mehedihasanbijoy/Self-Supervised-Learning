{
  "nbformat": 4,
  "nbformat_minor": 0,
  "metadata": {
    "colab": {
      "name": "BanglaAE I",
      "provenance": [],
      "collapsed_sections": []
    },
    "kernelspec": {
      "name": "python3",
      "display_name": "Python 3"
    },
    "language_info": {
      "name": "python"
    },
    "gpuClass": "standard"
  },
  "cells": [
    {
      "cell_type": "code",
      "source": [
        "from google.colab import drive\n",
        "drive.mount('/content/drive')"
      ],
      "metadata": {
        "colab": {
          "base_uri": "https://localhost:8080/"
        },
        "id": "o0qM9br9X1EA",
        "outputId": "e307f180-b8db-4604-f500-081ac83a1d4d"
      },
      "execution_count": 2,
      "outputs": [
        {
          "output_type": "stream",
          "name": "stdout",
          "text": [
            "Mounted at /content/drive\n"
          ]
        }
      ]
    },
    {
      "cell_type": "code",
      "execution_count": 14,
      "metadata": {
        "id": "bhs9boIDEEUh"
      },
      "outputs": [],
      "source": [
        "import os, glob\n",
        "import cv2\n",
        "import numpy as np\n",
        "import matplotlib.pyplot as plt\n",
        "import pandas as pd\n",
        "from tqdm import tqdm\n",
        "\n",
        "import torch\n",
        "import torch.nn as nn\n",
        "import torchvision\n",
        "from torch.utils.data import DataLoader\n",
        "from torchvision.datasets import ImageFolder\n",
        "import random\n",
        "\n",
        "import warnings as wrn\n",
        "wrn.filterwarnings('ignore')"
      ]
    },
    {
      "cell_type": "code",
      "source": [
        "!unzip '/content/drive/MyDrive/PROJECTS/ZS-GZS HCR/Datasets/DatasetBangla.zip'"
      ],
      "metadata": {
        "id": "GqkmQlT-EPei"
      },
      "execution_count": null,
      "outputs": []
    },
    {
      "cell_type": "code",
      "source": [
        "ROOT_DIR = '/content/DatasetBangla'\n",
        "\n",
        "train_set_root = os.path.join(ROOT_DIR, 'Train')\n",
        "test_set_root = os.path.join(ROOT_DIR, 'Test')\n",
        "\n",
        "transform = torchvision.transforms.Compose([\n",
        "    torchvision.transforms.Resize((32, 32)),\n",
        "    torchvision.transforms.ToTensor()\n",
        "])\n",
        "\n",
        "train_loader = DataLoader(\n",
        "    ImageFolder(train_set_root, transform=transform),\n",
        "    batch_size = 32, shuffle = True, pin_memory = True, drop_last = True, num_workers = 2\n",
        ")\n",
        "\n",
        "test_loader = DataLoader(\n",
        "    ImageFolder(test_set_root, transform=transform),\n",
        "    batch_size = 32, shuffle = True, pin_memory = True, drop_last = True, num_workers = 2\n",
        ")"
      ],
      "metadata": {
        "id": "1Lsw2EqUEPjq"
      },
      "execution_count": 41,
      "outputs": []
    },
    {
      "cell_type": "code",
      "source": [
        "num_classes = len(os.listdir(train_set_root))\n",
        "device = 'cuda' if torch.cuda.is_available() else 'cpu'"
      ],
      "metadata": {
        "id": "FZX8LdsjEPmC"
      },
      "execution_count": 42,
      "outputs": []
    },
    {
      "cell_type": "code",
      "source": [
        "class Autoencoder(nn.Module):\n",
        "    def __init__(self):\n",
        "        super().__init__()\n",
        "        self.encoder = nn.Sequential(\n",
        "            nn.Conv2d(in_channels=3, out_channels=32, kernel_size=3, stride=1, padding=0),\n",
        "            nn.ReLU(),\n",
        "            nn.Conv2d(in_channels=32, out_channels=32, kernel_size=2, stride=2, padding=0),\n",
        "            nn.ReLU(),\n",
        "            nn.Conv2d(in_channels=32, out_channels=64, kernel_size=3, stride=1, padding=0),\n",
        "            nn.ReLU(),\n",
        "            nn.Conv2d(in_channels=64, out_channels=64, kernel_size=2, stride=2, padding=0),\n",
        "            nn.ReLU(),\n",
        "            nn.Conv2d(in_channels=64, out_channels=128, kernel_size=3, stride=1, padding=0),\n",
        "            nn.ReLU(),\n",
        "            nn.Conv2d(in_channels=128, out_channels=128, kernel_size=2, stride=2, padding=0),\n",
        "            nn.ReLU(),\n",
        "            nn.Conv2d(in_channels=128, out_channels=128, kernel_size=2, stride=1, padding=0),\n",
        "            nn.ReLU(),\n",
        "        )\n",
        "\n",
        "        self.decoder = nn.Sequential(\n",
        "            nn.ConvTranspose2d(in_channels=1*1*128, out_channels=128, kernel_size=3, stride=1, padding=0),\n",
        "            nn.ReLU(),\n",
        "            nn.ConvTranspose2d(in_channels=128, out_channels=128, kernel_size=2, stride=2, padding=0),\n",
        "            nn.ReLU(),\n",
        "            nn.ConvTranspose2d(in_channels=128, out_channels=64, kernel_size=3, stride=1, padding=0),\n",
        "            nn.ReLU(),\n",
        "            nn.ConvTranspose2d(in_channels=64, out_channels=64, kernel_size=2, stride=2, padding=0),\n",
        "            nn.ReLU(),\n",
        "            nn.ConvTranspose2d(in_channels=64, out_channels=32, kernel_size=3, stride=1, padding=0),\n",
        "            nn.ReLU(),\n",
        "            nn.ConvTranspose2d(in_channels=32, out_channels=3, kernel_size=2, stride=2, padding=2),\n",
        "            nn.Sigmoid(),\n",
        "        )\n",
        "    \n",
        "    def forward(self, x):\n",
        "        encoded = self.encoder(x)\n",
        "        decoded = self.decoder(encoded)\n",
        "        return encoded, decoded"
      ],
      "metadata": {
        "id": "FkNGIPCrrW-4"
      },
      "execution_count": 49,
      "outputs": []
    },
    {
      "cell_type": "code",
      "source": [
        "# WORKS\n",
        "# class Autoencoder(nn.Module):\n",
        "#     def __init__(self):\n",
        "#         super().__init__()\n",
        "#         self.encoder = nn.Sequential(\n",
        "#             nn.Conv2d(in_channels=3, out_channels=128, kernel_size=3, stride=2, padding=1),\n",
        "#             nn.ReLU(),\n",
        "#             nn.Conv2d(in_channels=128, out_channels=112, kernel_size=3, stride=2, padding=1),\n",
        "#             nn.ReLU(),\n",
        "#             nn.Conv2d(in_channels=112, out_channels=96, kernel_size=3, stride=2, padding=1),\n",
        "#             nn.ReLU(),\n",
        "#             nn.Conv2d(in_channels=96, out_channels=80, kernel_size=3, stride=2, padding=1),\n",
        "#             nn.ReLU(),\n",
        "#             nn.Conv2d(in_channels=80, out_channels=64, kernel_size=3, stride=2, padding=1),\n",
        "#             nn.ReLU(),\n",
        "#             nn.Conv2d(in_channels=64, out_channels=264, kernel_size=2, stride=1, padding=0)\n",
        "#         )\n",
        "\n",
        "#         self.decoder = nn.Sequential(\n",
        "#             nn.ConvTranspose2d(in_channels=264, out_channels=64, kernel_size=2, stride=1, padding=0),\n",
        "#             nn.ReLU(),\n",
        "#             nn.ConvTranspose2d(in_channels=64, out_channels=80, kernel_size=3, stride=2, padding=1, output_padding=1),\n",
        "#             nn.ReLU(),\n",
        "#             nn.ConvTranspose2d(in_channels=80, out_channels=96, kernel_size=3, stride=2, padding=1, output_padding=1),\n",
        "#             nn.ReLU(),\n",
        "#             nn.ConvTranspose2d(in_channels=96, out_channels=112, kernel_size=3, stride=2, padding=1, output_padding=1),\n",
        "#             nn.ReLU(),\n",
        "#             nn.ConvTranspose2d(in_channels=112, out_channels=128, kernel_size=3, stride=2, padding=1, output_padding=1),\n",
        "#             nn.ReLU(),\n",
        "#             nn.ConvTranspose2d(in_channels=128, out_channels=3, kernel_size=3, stride=2, padding=1, output_padding=1),\n",
        "#             nn.Sigmoid()\n",
        "#         )\n",
        "    \n",
        "#     def forward(self, x):\n",
        "#         encoded = self.encoder(x)\n",
        "#         decoded = self.decoder(encoded)\n",
        "#         return encoded, decoded"
      ],
      "metadata": {
        "id": "fVJYJm0sfj7l"
      },
      "execution_count": 34,
      "outputs": []
    },
    {
      "cell_type": "code",
      "source": [
        "model = Autoencoder().to(device)\n",
        "criterion = nn.MSELoss()\n",
        "optimizer = torch.optim.Adam(model.parameters(), lr=1e-3, weight_decay=1e-5)"
      ],
      "metadata": {
        "id": "YqKBQFydEPvK"
      },
      "execution_count": 50,
      "outputs": []
    },
    {
      "cell_type": "code",
      "source": [
        "path = '/content/drive/MyDrive/PROJECTS/ZS-GZS HCR/checkpoints/aec_ckp.pth'\n",
        "outputs = []\n",
        "current_loss = 1e10\n",
        "\n",
        "\n",
        "# checkpoint = torch.load(path)\n",
        "# model.load_state_dict(checkpoint['model_state_dict'])\n",
        "# optimizer.load_state_dict(checkpoint['optimizer_state_dict'])\n",
        "# epoch = checkpoint['epoch']\n",
        "# current_loss = checkpoint['loss']\n",
        "# EPOCHS = epoch + 10\n",
        "\n",
        "model.train()\n",
        "# for epoch in range(epoch, EPOCHS):\n",
        "for epoch in range(10):\n",
        "    for (imgs, _) in tqdm(train_loader):\n",
        "        imgs = imgs.to(device)\n",
        "        embd, recon = model(imgs.to(device))\n",
        "        # print(embd.shape)\n",
        "        loss = criterion(recon, imgs)\n",
        "\n",
        "        optimizer.zero_grad()\n",
        "        loss.backward()\n",
        "        optimizer.step()\n",
        "        # break\n",
        "    print(f\"Epoch: {epoch+1}, Loss: {loss.item():.4f}\")\n",
        "\n",
        "    outputs.append((epoch, imgs, recon))\n",
        "    if current_loss > loss:\n",
        "        loss = current_loss\n",
        "        torch.save({\n",
        "            'epoch': epoch,\n",
        "            'model_state_dict': model.state_dict(),\n",
        "            'optimizer_state_dict': optimizer.state_dict(),\n",
        "            'loss': loss\n",
        "        }, path)\n",
        "        print('model saved')\n",
        "    # break"
      ],
      "metadata": {
        "id": "_DxBjsl5EPxi",
        "colab": {
          "base_uri": "https://localhost:8080/"
        },
        "outputId": "9f07ce3e-c5f4-4ac7-ac32-5c8ff99e4d85"
      },
      "execution_count": 51,
      "outputs": [
        {
          "output_type": "stream",
          "name": "stderr",
          "text": [
            "100%|██████████| 375/375 [00:06<00:00, 60.76it/s]\n"
          ]
        },
        {
          "output_type": "stream",
          "name": "stdout",
          "text": [
            "Epoch: 1, Loss: 0.0348\n",
            "model saved\n"
          ]
        },
        {
          "output_type": "stream",
          "name": "stderr",
          "text": [
            "100%|██████████| 375/375 [00:06<00:00, 60.25it/s]\n"
          ]
        },
        {
          "output_type": "stream",
          "name": "stdout",
          "text": [
            "Epoch: 2, Loss: 0.0401\n",
            "model saved\n"
          ]
        },
        {
          "output_type": "stream",
          "name": "stderr",
          "text": [
            "100%|██████████| 375/375 [00:06<00:00, 61.09it/s]\n"
          ]
        },
        {
          "output_type": "stream",
          "name": "stdout",
          "text": [
            "Epoch: 3, Loss: 0.0374\n",
            "model saved\n"
          ]
        },
        {
          "output_type": "stream",
          "name": "stderr",
          "text": [
            "100%|██████████| 375/375 [00:07<00:00, 50.00it/s]\n"
          ]
        },
        {
          "output_type": "stream",
          "name": "stdout",
          "text": [
            "Epoch: 4, Loss: 0.0211\n",
            "model saved\n"
          ]
        },
        {
          "output_type": "stream",
          "name": "stderr",
          "text": [
            "100%|██████████| 375/375 [00:06<00:00, 60.15it/s]\n"
          ]
        },
        {
          "output_type": "stream",
          "name": "stdout",
          "text": [
            "Epoch: 5, Loss: 0.0246\n",
            "model saved\n"
          ]
        },
        {
          "output_type": "stream",
          "name": "stderr",
          "text": [
            "100%|██████████| 375/375 [00:06<00:00, 60.45it/s]\n"
          ]
        },
        {
          "output_type": "stream",
          "name": "stdout",
          "text": [
            "Epoch: 6, Loss: 0.0232\n",
            "model saved\n"
          ]
        },
        {
          "output_type": "stream",
          "name": "stderr",
          "text": [
            "100%|██████████| 375/375 [00:06<00:00, 59.66it/s]\n"
          ]
        },
        {
          "output_type": "stream",
          "name": "stdout",
          "text": [
            "Epoch: 7, Loss: 0.0151\n",
            "model saved\n"
          ]
        },
        {
          "output_type": "stream",
          "name": "stderr",
          "text": [
            "100%|██████████| 375/375 [00:06<00:00, 60.95it/s]\n"
          ]
        },
        {
          "output_type": "stream",
          "name": "stdout",
          "text": [
            "Epoch: 8, Loss: 0.0190\n",
            "model saved\n"
          ]
        },
        {
          "output_type": "stream",
          "name": "stderr",
          "text": [
            "100%|██████████| 375/375 [00:06<00:00, 55.36it/s]\n"
          ]
        },
        {
          "output_type": "stream",
          "name": "stdout",
          "text": [
            "Epoch: 9, Loss: 0.0135\n",
            "model saved\n"
          ]
        },
        {
          "output_type": "stream",
          "name": "stderr",
          "text": [
            "100%|██████████| 375/375 [00:07<00:00, 51.76it/s]"
          ]
        },
        {
          "output_type": "stream",
          "name": "stdout",
          "text": [
            "Epoch: 10, Loss: 0.0154\n",
            "model saved\n"
          ]
        },
        {
          "output_type": "stream",
          "name": "stderr",
          "text": [
            "\n"
          ]
        }
      ]
    },
    {
      "cell_type": "code",
      "source": [
        "all = glob.glob(ROOT_DIR+'/*/*/*.bmp')\n",
        "train = glob.glob('/content/DatasetBangla/Train/*/*.bmp')\n",
        "test = glob.glob('/content/DatasetBangla/Test/*/*.bmp')\n",
        "\n",
        "len(all), len(train), len(test)"
      ],
      "metadata": {
        "id": "ikSD_kkZIIMF",
        "colab": {
          "base_uri": "https://localhost:8080/"
        },
        "outputId": "ebbcab36-ef57-4224-960d-0398ad912719"
      },
      "execution_count": 52,
      "outputs": [
        {
          "output_type": "execute_result",
          "data": {
            "text/plain": [
              "(15000, 12000, 3000)"
            ]
          },
          "metadata": {},
          "execution_count": 52
        }
      ]
    },
    {
      "cell_type": "code",
      "source": [
        "model.eval()\n",
        "with torch.no_grad():\n",
        "    for data in random.sample(list(test_loader), 1):\n",
        "        imgs, _ = data\n",
        "        imgs = imgs.to(device)\n",
        "        img = np.transpose(imgs[0].cpu().numpy(), [1,2,0])\n",
        "        plt.subplot(121)\n",
        "        plt.imshow(np.squeeze(img))\n",
        "        enc, dec = model(imgs)\n",
        "        print(enc.flatten(start_dim=1).shape)\n",
        "        print(dec[0])\n",
        "        outimg = np.transpose(dec[0].cpu().numpy(), [1,2,0])\n",
        "        plt.subplot(122)\n",
        "        plt.imshow(np.squeeze(outimg))\n",
        "        break"
      ],
      "metadata": {
        "id": "dOv4M5r8Z8Sj",
        "colab": {
          "base_uri": "https://localhost:8080/",
          "height": 636
        },
        "outputId": "1d1b45ab-ba6f-4145-9eb4-e7e5021d7ad5"
      },
      "execution_count": 53,
      "outputs": [
        {
          "output_type": "stream",
          "name": "stdout",
          "text": [
            "torch.Size([32, 128])\n",
            "tensor([[[0.4971, 0.4983, 0.5004,  ..., 0.4229, 0.4320, 0.4605],\n",
            "         [0.4903, 0.4920, 0.5010,  ..., 0.3976, 0.4204, 0.4600],\n",
            "         [0.5013, 0.4994, 0.4993,  ..., 0.3850, 0.4021, 0.4460],\n",
            "         ...,\n",
            "         [0.4930, 0.4979, 0.4985,  ..., 0.4885, 0.4715, 0.4882],\n",
            "         [0.4922, 0.4907, 0.4939,  ..., 0.4791, 0.4865, 0.4911],\n",
            "         [0.4926, 0.4970, 0.4977,  ..., 0.4908, 0.4891, 0.4922]],\n",
            "\n",
            "        [[0.4958, 0.5007, 0.5048,  ..., 0.4294, 0.4370, 0.4635],\n",
            "         [0.4918, 0.4980, 0.4982,  ..., 0.3967, 0.4152, 0.4540],\n",
            "         [0.5061, 0.5030, 0.5024,  ..., 0.3844, 0.4045, 0.4459],\n",
            "         ...,\n",
            "         [0.4957, 0.5024, 0.5006,  ..., 0.4981, 0.4809, 0.4946],\n",
            "         [0.4906, 0.4967, 0.4948,  ..., 0.4774, 0.4902, 0.4977],\n",
            "         [0.5000, 0.5078, 0.5022,  ..., 0.4925, 0.4906, 0.5004]],\n",
            "\n",
            "        [[0.4969, 0.4978, 0.5016,  ..., 0.4229, 0.4397, 0.4618],\n",
            "         [0.4949, 0.4966, 0.5003,  ..., 0.4006, 0.4220, 0.4622],\n",
            "         [0.5024, 0.4991, 0.5037,  ..., 0.3815, 0.4039, 0.4433],\n",
            "         ...,\n",
            "         [0.4964, 0.5007, 0.4992,  ..., 0.4767, 0.4804, 0.4746],\n",
            "         [0.4962, 0.4992, 0.5026,  ..., 0.4807, 0.4927, 0.4980],\n",
            "         [0.4989, 0.5032, 0.4999,  ..., 0.4834, 0.4951, 0.4998]]],\n",
            "       device='cuda:0')\n"
          ]
        },
        {
          "output_type": "display_data",
          "data": {
            "text/plain": [
              "<Figure size 432x288 with 2 Axes>"
            ],
            "image/png": "[encoded data removed]"
          },
          "metadata": {
            "needs_background": "light"
          }
        }
      ]
    },
    {
      "cell_type": "code",
      "source": [
        ""
      ],
      "metadata": {
        "id": "22R-R9opldJp"
      },
      "execution_count": null,
      "outputs": []
    },
    {
      "cell_type": "code",
      "source": [
        "test_transform = torchvision.transforms.Compose([\n",
        "    torchvision.transforms.ToPILImage(),\n",
        "    torchvision.transforms.Resize((32, 32)),\n",
        "    torchvision.transforms.ToTensor(),\n",
        "    # torchvision.transforms.Normalize((0.5), (0.5)),\n",
        "])\n",
        "\n",
        "embeddings = []\n",
        "for idx in range(172, 172+50):\n",
        "    img_path = f'/content/DatasetBangla/Test/{idx}/bcc000020.bmp'\n",
        "    img = test_transform(cv2.imread(img_path))\n",
        "    # print(img.shape)\n",
        "\n",
        "    embd, recon = model(img.unsqueeze(0).to(device))\n",
        "    embd = embd.view(-1, embd.shape[1])\n",
        "    # print(embd.shape, recon.shape)\n",
        "    embeddings.append(list(embd[0].cpu().detach().numpy()))\n",
        "\n",
        "\n",
        "\n",
        "# embeddings = []\n",
        "# for idx in range(172, 172+50):\n",
        "#     embds = 0\n",
        "#     imgs = glob.glob(f'/content/Dataset/Test/{idx}/*.bmp')\n",
        "#     for img in imgs:\n",
        "#         img = test_transform(cv2.imread(img_path))\n",
        "#         # print(img.shape)\n",
        "#         embd, recon = model(img.unsqueeze(0).to(device))\n",
        "#         embd = embd.view(-1, 64)\n",
        "#         embd = embd[0].cpu().detach().numpy()\n",
        "#         # print(embd.shape)\n",
        "#         embds += embd\n",
        "#         # break\n",
        "#     # print(embds/len(imgs))\n",
        "#     embds = embds/len(imgs)\n",
        "#     embeddings.append(embds)\n",
        "#     # break\n",
        "        \n",
        "\n",
        "np.array(embeddings).shape"
      ],
      "metadata": {
        "colab": {
          "base_uri": "https://localhost:8080/"
        },
        "id": "hNILyhrFEPz6",
        "outputId": "21cd4bde-b17b-4f03-e7dc-d0fd71815fda"
      },
      "execution_count": 55,
      "outputs": [
        {
          "output_type": "execute_result",
          "data": {
            "text/plain": [
              "(50, 128)"
            ]
          },
          "metadata": {},
          "execution_count": 55
        }
      ]
    },
    {
      "cell_type": "code",
      "source": [
        "import pandas as pd\n",
        "from gensim.models.callbacks import CallbackAny2Vec\n",
        "from gensim.models import Word2Vec\n",
        "from sklearn.decomposition import PCA\n",
        "import matplotlib.pyplot as plt\n",
        "import matplotlib.font_manager as fm"
      ],
      "metadata": {
        "id": "cRTLJQcVEP4x"
      },
      "execution_count": 56,
      "outputs": []
    },
    {
      "cell_type": "code",
      "source": [
        "prop = fm.FontProperties(fname='/content/drive/MyDrive/PROJECTS/ZS-GZS HCR/required files/kalpurush.ttf')\n",
        "\n",
        "X = embeddings\n",
        "pca = PCA(n_components=2)\n",
        "result = pca.fit_transform(X)\n",
        "\n",
        "plt.figure(figsize=(20, 8))\n",
        "plt.scatter(result[:, 0], result[:, 1])\n",
        "\n",
        "chars = [\n",
        "    'অ', 'আ', 'ই', 'ঈ', 'উ', 'ঊ', 'ঋ', 'এ', 'ঐ', 'ও', 'ঔ', 'ক', 'খ', 'গ', 'ঘ', 'ঙ', 'চ', 'ছ', 'জ', 'ঝ', 'ঞ', 'ট', 'ঠ', 'ড', \n",
        "    'ঢ', 'ণ', 'ত', 'থ', 'দ', 'ধ', 'ন', 'প', 'ফ', 'ব', 'ভ', 'ম', 'য', 'র', 'ল', 'শ', 'ষ', 'স', 'হ', 'ড়', 'ঢ়', 'য়', 'ৎ',' ং',' ঃ', ' ঁ',\n",
        "    # 'অনুস্বার','বিসর্গ', 'চন্দ্রবিন্দু'\n",
        "]\n",
        "\n",
        "for i, char in enumerate(chars):\n",
        "    plt.annotate(\n",
        "        char,\n",
        "        xy = (result[i, 0], result[i, 1]),\n",
        "        fontproperties=prop,\n",
        "        fontsize=15\n",
        "    )\n",
        "\n",
        "plt.show()"
      ],
      "metadata": {
        "colab": {
          "base_uri": "https://localhost:8080/",
          "height": 483
        },
        "id": "WlRL_547EP7L",
        "outputId": "74e3ec25-dddc-4d53-b606-148829ed2ac2"
      },
      "execution_count": 57,
      "outputs": [
        {
          "output_type": "display_data",
          "data": {
            "text/plain": [
              "<Figure size 1440x576 with 1 Axes>"
            ],
            "image/png": "[encoded data removed]"
          },
          "metadata": {
            "needs_background": "light"
          }
        }
      ]
    },
    {
      "cell_type": "code",
      "source": [
        ""
      ],
      "metadata": {
        "id": "Kyvm9HqtEP_p"
      },
      "execution_count": null,
      "outputs": []
    },
    {
      "cell_type": "code",
      "source": [
        ""
      ],
      "metadata": {
        "id": "Fj6sLnqWEQBz"
      },
      "execution_count": null,
      "outputs": []
    },
    {
      "cell_type": "code",
      "source": [
        ""
      ],
      "metadata": {
        "id": "J2C4VQFrEQEB"
      },
      "execution_count": null,
      "outputs": []
    },
    {
      "cell_type": "code",
      "source": [
        ""
      ],
      "metadata": {
        "id": "MwnXwSDhEQGk"
      },
      "execution_count": null,
      "outputs": []
    },
    {
      "cell_type": "code",
      "source": [
        ""
      ],
      "metadata": {
        "id": "PkCpZXijEQI6"
      },
      "execution_count": null,
      "outputs": []
    },
    {
      "cell_type": "code",
      "source": [
        ""
      ],
      "metadata": {
        "id": "GGKo5j6YEQLi"
      },
      "execution_count": null,
      "outputs": []
    }
  ]
}